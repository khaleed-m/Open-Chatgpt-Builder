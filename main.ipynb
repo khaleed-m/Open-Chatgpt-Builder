{
 "cells": [
  {
   "cell_type": "code",
   "execution_count": 1,
   "id": "7e45988d",
   "metadata": {},
   "outputs": [],
   "source": [
    "import requests\n",
    "import json"
   ]
  },
  {
   "cell_type": "code",
   "execution_count": 2,
   "id": "9cd1cf8c",
   "metadata": {},
   "outputs": [],
   "source": [
    "def query_ollama(prompt, model=\"phi3\"):\n",
    "    url = \"http://localhost:11434/api/generate\"\n",
    "    headers = {'Content-Type': 'application/json'}  # fixed typo\n",
    "    data = {\n",
    "        \"model\": model,\n",
    "        \"prompt\": prompt\n",
    "    }\n",
    "\n",
    "    response = requests.post(url, json=data, headers=headers, stream=True)\n",
    "    response.raise_for_status()\n",
    "    \n",
    "    full_response = \"\"\n",
    "    for line in response.iter_lines():\n",
    "        if line:\n",
    "            chunk = json.loads(line.decode(\"utf-8\"))  \n",
    "            full_response += chunk.get(\"response\", \"\")\n",
    "            if chunk.get(\"done\", False):\n",
    "                break\n",
    "\n",
    "    return full_response"
   ]
  },
  {
   "cell_type": "code",
   "execution_count": null,
   "id": "ba4db19f",
   "metadata": {},
   "outputs": [],
   "source": [
    "# Example usage:\n",
    "answer = query_ollama(\"Just give me the Name of capital of India ? \")\n",
    "print(\"Ollama response:\", answer)\n"
   ]
  }
 ],
 "metadata": {
  "kernelspec": {
   "display_name": "Python 3",
   "language": "python",
   "name": "python3"
  },
  "language_info": {
   "codemirror_mode": {
    "name": "ipython",
    "version": 3
   },
   "file_extension": ".py",
   "mimetype": "text/x-python",
   "name": "python",
   "nbconvert_exporter": "python",
   "pygments_lexer": "ipython3",
   "version": "3.13.3"
  }
 },
 "nbformat": 4,
 "nbformat_minor": 5
}
